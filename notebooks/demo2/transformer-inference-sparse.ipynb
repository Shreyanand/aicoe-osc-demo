{
 "cells": [
  {
   "cell_type": "markdown",
   "id": "ee11b421",
   "metadata": {
    "tags": []
   },
   "source": [
    "## Inference with Sparse Models \n",
    "In this notebook, we will benchmark the inference timings for the sparse models. "
   ]
  },
  {
   "cell_type": "code",
   "execution_count": null,
   "id": "bc1eb0c2",
   "metadata": {
    "papermill": {
     "duration": 3.30074,
     "end_time": "2022-10-07T19:33:18.885511",
     "exception": false,
     "start_time": "2022-10-07T19:33:15.584771",
     "status": "completed"
    },
    "tags": []
   },
   "outputs": [],
   "source": [
    "import os\n",
    "import pathlib\n",
    "from dotenv import load_dotenv\n",
    "from datasets import Dataset, DatasetDict\n",
    "import pandas as pd\n",
    "from transformers import AutoModelForSequenceClassification\n",
    "from src.data.s3_communication import S3Communication, S3FileType\n",
    "from src.components.utils.kpi_mapping import get_kpi_mapping_category\n",
    "import json\n",
    "import time\n",
    "import config\n",
    "from transformers import AutoTokenizer\n",
    "from torch import cuda\n",
    "import torch\n",
    "import warnings\n",
    "warnings.filterwarnings(\"ignore\")\n",
    "device = 'cuda' if cuda.is_available() else 'cpu'"
   ]
  },
  {
   "cell_type": "code",
   "execution_count": 5,
   "id": "ad4b2028",
   "metadata": {},
   "outputs": [],
   "source": [
    "# Load credentials\n",
    "dotenv_dir = os.environ.get(\n",
    "    \"CREDENTIAL_DOTENV_DIR\", os.environ.get(\"PWD\", \"/opt/app-root/src\")\n",
    ")\n",
    "dotenv_path = pathlib.Path(dotenv_dir) / \"credentials.env\"\n",
    "if os.path.exists(dotenv_path):\n",
    "    load_dotenv(dotenv_path=dotenv_path, override=True)"
   ]
  },
  {
   "cell_type": "code",
   "execution_count": 6,
   "id": "d61eb734",
   "metadata": {},
   "outputs": [],
   "source": [
    "# init s3 connector\n",
    "s3c = S3Communication(\n",
    "    s3_endpoint_url=os.getenv(\"S3_ENDPOINT\"),\n",
    "    aws_access_key_id=os.getenv(\"AWS_ACCESS_KEY_ID\"),\n",
    "    aws_secret_access_key=os.getenv(\"AWS_SECRET_ACCESS_KEY\"),\n",
    "    s3_bucket=os.getenv(\"S3_BUCKET\"),\n",
    ")"
   ]
  },
  {
   "cell_type": "markdown",
   "id": "5dd72537",
   "metadata": {},
   "source": [
    "## Helper functions"
   ]
  },
  {
   "cell_type": "code",
   "execution_count": 48,
   "id": "b55e007b",
   "metadata": {},
   "outputs": [],
   "source": [
    "def create_batches(data_df, batch_size=32):\n",
    "    encoded_dataset = list()\n",
    "    batch = list()\n",
    "    for df, row in data_df.iterrows():\n",
    "        if len(batch) < batch_size:\n",
    "            batch.append([row['question'], row['sentence']])\n",
    "        else:\n",
    "            encoded_dataset.append(tokenizer(batch,\n",
    "                                             truncation=True,\n",
    "                                             return_tensors='pt',\n",
    "                                             padding=True))\n",
    "            batch = [[row['question'], row['sentence']]]\n",
    "    if batch:\n",
    "        encoded_dataset.append(tokenizer(batch,\n",
    "                                         truncation=True,\n",
    "                                         return_tensors='pt',\n",
    "                                         padding=True))\n",
    "    return encoded_dataset"
   ]
  },
  {
   "cell_type": "code",
   "execution_count": 49,
   "id": "da4b1a8b",
   "metadata": {},
   "outputs": [],
   "source": [
    "def gather_data(pdf_name, pdf_path):\n",
    "    pdf_content = read_text_from_json(file_path)\n",
    "    text_data = []\n",
    "    # Build all possible combinations of paragraphs and  questions\n",
    "    # Keep track of page number which the text is extracted from and\n",
    "    # the pdf it belongs to.\n",
    "    for kpi_question in questions:\n",
    "        text_data.extend([{\n",
    "            \"page\": page_num,\n",
    "            \"pdf_name\": pdf_name,\n",
    "            \"question\": kpi_question,\n",
    "            \"sentence\": paragraph}\n",
    "            for page_num, page_content in pdf_content.items()\n",
    "            for paragraph in page_content])\n",
    "    return text_data"
   ]
  },
  {
   "cell_type": "code",
   "execution_count": 50,
   "id": "e447928e",
   "metadata": {},
   "outputs": [],
   "source": [
    "def predict(encoded_dataset):\n",
    "    outputs = list()\n",
    "    for batch in encoded_dataset:\n",
    "        input_ids = batch['input_ids'].to(device)\n",
    "        attention_mask = batch['attention_mask'].to(device)\n",
    "        with torch.no_grad():\n",
    "            outs = model(input_ids=input_ids, attention_mask=attention_mask)\n",
    "            outputs.extend(outs.logits.argmax(axis=1).tolist())\n",
    "    return outputs"
   ]
  },
  {
   "cell_type": "code",
   "execution_count": 51,
   "id": "46ce22e8",
   "metadata": {},
   "outputs": [],
   "source": [
    "def read_text_from_json(file):\n",
    "    \"\"\"Read text from json.\"\"\"\n",
    "\n",
    "    with open(file) as f:\n",
    "        text = json.load(f)\n",
    "        return text"
   ]
  },
  {
   "cell_type": "markdown",
   "id": "2db64acf",
   "metadata": {},
   "source": [
    "## Retrieve the test dataset and the trained models"
   ]
  },
  {
   "cell_type": "code",
   "execution_count": 52,
   "id": "75a79818",
   "metadata": {},
   "outputs": [],
   "source": [
    "s3c.download_files_in_prefix_to_dir(\n",
    "    config.BASE_TRAIN_TEST_DATASET_S3_PREFIX,\n",
    "    config.BASE_PROCESSED_DATA)"
   ]
  },
  {
   "cell_type": "code",
   "execution_count": 53,
   "id": "829a635b",
   "metadata": {},
   "outputs": [],
   "source": [
    "test_data_path = str(config.BASE_PROCESSED_DATA)+'/rel_test_split.csv'\n",
    "test_data = pd.read_csv(test_data_path, index_col=0)\n",
    "test_data.rename(columns={'text': 'question', 'text_b':'sentence'}, inplace=True)\n",
    "\n",
    "train_data_path = str(config.BASE_PROCESSED_DATA)+'/rel_train_split.csv'\n",
    "train_data = pd.read_csv(train_data_path, index_col=0)\n",
    "train_data.rename(columns={'text': 'question', 'text_b':'sentence'}, inplace=True)"
   ]
  },
  {
   "cell_type": "code",
   "execution_count": 54,
   "id": "32210f38",
   "metadata": {},
   "outputs": [],
   "source": [
    "trds = Dataset.from_pandas(train_data)\n",
    "teds = Dataset.from_pandas(test_data.drop('label', axis=1))\n",
    "\n",
    "climate_dataset = DatasetDict()\n",
    "\n",
    "climate_dataset['train'] = trds\n",
    "climate_dataset['test'] = teds"
   ]
  },
  {
   "cell_type": "code",
   "execution_count": 55,
   "id": "790cd0de",
   "metadata": {},
   "outputs": [
    {
     "data": {
      "text/plain": [
       "DatasetDict({\n",
       "    train: Dataset({\n",
       "        features: ['label', 'question', 'sentence', '__index_level_0__'],\n",
       "        num_rows: 2033\n",
       "    })\n",
       "    test: Dataset({\n",
       "        features: ['question', 'sentence', '__index_level_0__'],\n",
       "        num_rows: 509\n",
       "    })\n",
       "})"
      ]
     },
     "execution_count": 55,
     "metadata": {},
     "output_type": "execute_result"
    }
   ],
   "source": [
    "climate_dataset"
   ]
  },
  {
   "cell_type": "markdown",
   "id": "9c7f3622",
   "metadata": {},
   "source": [
    "**Model Paths**"
   ]
  },
  {
   "cell_type": "code",
   "execution_count": 56,
   "id": "3b0bdcac",
   "metadata": {},
   "outputs": [],
   "source": [
    "local_model_paths=['/opt/app-root/src/aicoe-osc-demo/models/transformers/distilbert_mnli_pruned80/',\n",
    "                   '/opt/app-root/src/aicoe-osc-demo/models/transformers/distilbert_qqp_pruned80/',\n",
    "                   '/opt/app-root/src/aicoe-osc-demo/models/transformers/obert_mnli_pruned90/']\n",
    "\n",
    "model_names = ['distilbert_mnli_pruned80',\n",
    "               'distilbert_qqp_pruned80',\n",
    "               'obert_mnli_pruned90']"
   ]
  },
  {
   "cell_type": "code",
   "execution_count": 57,
   "id": "ddcfeddc",
   "metadata": {},
   "outputs": [
    {
     "data": {
      "text/plain": [
       "PosixPath('/opt/app-root/src/data')"
      ]
     },
     "execution_count": 57,
     "metadata": {},
     "output_type": "execute_result"
    }
   ],
   "source": [
    "config.DATA_FOLDER"
   ]
  },
  {
   "cell_type": "code",
   "execution_count": 58,
   "id": "97cea1bc",
   "metadata": {},
   "outputs": [],
   "source": [
    "BENCHMARK_FOLDER = config.DATA_FOLDER\n",
    "if not os.path.exists(BENCHMARK_FOLDER):\n",
    "    BENCHMARK_FOLDER.mkdir(parents=True, exist_ok=True)\n",
    "\n",
    "BENCHMARK_EXTRACTION_FOLDER = BENCHMARK_FOLDER / \"extraction\"\n",
    "if not os.path.exists(BENCHMARK_EXTRACTION_FOLDER):\n",
    "    pathlib.Path(BENCHMARK_EXTRACTION_FOLDER).mkdir(parents=True, exist_ok=True)"
   ]
  },
  {
   "cell_type": "code",
   "execution_count": 59,
   "id": "517064c6",
   "metadata": {},
   "outputs": [],
   "source": [
    "kpi_df = s3c.download_df_from_s3(\n",
    "    \"aicoe-osc-demo/kpi_mapping\",\n",
    "    \"kpi_mapping.csv\",\n",
    "    filetype=S3FileType.CSV,\n",
    "    header=0)\n",
    "\n",
    "kmc = get_kpi_mapping_category(kpi_df)\n",
    "questions = [q_text for q_id, (q_text, sect) in kmc[\"KPI_MAPPING_MODEL\"].items()\n",
    "             if len(set(sect).intersection({\"OG\", \"CM\", \"CU\"})) > 0\n",
    "             and \"TEXT\" in kmc[\"KPI_CATEGORY\"][q_id]]\n",
    "\n",
    "text_paths = sorted(BENCHMARK_EXTRACTION_FOLDER.rglob(\"*.json\"))\n",
    "all_text_path_dict = {os.path.splitext(os.path.basename(file_path))[0]:\n",
    "                      file_path for file_path in text_paths\n",
    "                      if \"table_meta\" not in str(file_path)}"
   ]
  },
  {
   "cell_type": "code",
   "execution_count": 60,
   "id": "af60178b",
   "metadata": {},
   "outputs": [],
   "source": [
    "#import itertools\n",
    "#all_text_path_dict = dict(itertools.islice(all_text_path_dict.items(), 2))"
   ]
  },
  {
   "cell_type": "code",
   "execution_count": 61,
   "id": "cc426109",
   "metadata": {},
   "outputs": [],
   "source": [
    "df_list = []\n",
    "metrics_df_list = []\n",
    "metrics_list = []\n",
    "metric_dfs = pd.DataFrame()\n",
    "num_pdfs = len(all_text_path_dict)"
   ]
  },
  {
   "cell_type": "code",
   "execution_count": 62,
   "id": "79a6659f",
   "metadata": {},
   "outputs": [
    {
     "data": {
      "text/plain": [
       "{'04_NOVATEK_AR_2016_ENG_11': PosixPath('/opt/app-root/src/data/extraction/04_NOVATEK_AR_2016_ENG_11.json'),\n",
       " '04_NOVATEK_AR_2018_ENG_15': PosixPath('/opt/app-root/src/data/extraction/04_NOVATEK_AR_2018_ENG_15.json'),\n",
       " '2013_book_mol_ar_eng_fin': PosixPath('/opt/app-root/src/data/extraction/2013_book_mol_ar_eng_fin.json'),\n",
       " '2015_BASF_Report': PosixPath('/opt/app-root/src/data/extraction/2015_BASF_Report.json'),\n",
       " '2017 Sustainability Report': PosixPath('/opt/app-root/src/data/extraction/2017 Sustainability Report.json'),\n",
       " '2017-Sustainability-Report': PosixPath('/opt/app-root/src/data/extraction/2017-Sustainability-Report.json'),\n",
       " '2017_SustainabilityReport_2_9_Web': PosixPath('/opt/app-root/src/data/extraction/2017_SustainabilityReport_2_9_Web.json'),\n",
       " '2017_sustainability_report': PosixPath('/opt/app-root/src/data/extraction/2017_sustainability_report.json'),\n",
       " '2017_sustainability_report_tcm14-130393': PosixPath('/opt/app-root/src/data/extraction/2017_sustainability_report_tcm14-130393.json'),\n",
       " '2018 Annual Report': PosixPath('/opt/app-root/src/data/extraction/2018 Annual Report.json'),\n",
       " '2018_sustainability_report': PosixPath('/opt/app-root/src/data/extraction/2018_sustainability_report.json'),\n",
       " '2019 Annual Report': PosixPath('/opt/app-root/src/data/extraction/2019 Annual Report.json'),\n",
       " '2019_global_sustainability_plan_tcm14-148662': PosixPath('/opt/app-root/src/data/extraction/2019_global_sustainability_plan_tcm14-148662.json'),\n",
       " '28022019-Repsol-Annual-Financial-Report-2018_tcm14-147383': PosixPath('/opt/app-root/src/data/extraction/28022019-Repsol-Annual-Financial-Report-2018_tcm14-147383.json'),\n",
       " '2_LOTOS_Group Directors Report 2019': PosixPath('/opt/app-root/src/data/extraction/2_LOTOS_Group Directors Report 2019.json'),\n",
       " 'AGL Energy Ltd Annual Report 2019': PosixPath('/opt/app-root/src/data/extraction/AGL Energy Ltd Annual Report 2019.json'),\n",
       " 'AGL Energy Ltd FY19 Carbon Scenario Analysis': PosixPath('/opt/app-root/src/data/extraction/AGL Energy Ltd FY19 Carbon Scenario Analysis.json'),\n",
       " 'AKERBP-Annual-Report-2016': PosixPath('/opt/app-root/src/data/extraction/AKERBP-Annual-Report-2016.json'),\n",
       " 'AKERBP-Annual-Report-2017': PosixPath('/opt/app-root/src/data/extraction/AKERBP-Annual-Report-2017.json'),\n",
       " 'ANNUAL REPORT 2017': PosixPath('/opt/app-root/src/data/extraction/ANNUAL REPORT 2017.json'),\n",
       " 'AR_FS_2017_ENG': PosixPath('/opt/app-root/src/data/extraction/AR_FS_2017_ENG.json'),\n",
       " 'Adani Group Adani Enterprises Annual Report 2019': PosixPath('/opt/app-root/src/data/extraction/Adani Group Adani Enterprises Annual Report 2019.json'),\n",
       " 'Adani Group Adani Power Annual Report 2019': PosixPath('/opt/app-root/src/data/extraction/Adani Group Adani Power Annual Report 2019.json'),\n",
       " 'Aker-BP-Annual-report-2018': PosixPath('/opt/app-root/src/data/extraction/Aker-BP-Annual-report-2018.json'),\n",
       " 'Aker-BP-Sustainability-Report-2018-1': PosixPath('/opt/app-root/src/data/extraction/Aker-BP-Sustainability-Report-2018-1.json'),\n",
       " 'Aker-BP-Sustainability-Report-2019': PosixPath('/opt/app-root/src/data/extraction/Aker-BP-Sustainability-Report-2019.json'),\n",
       " 'Aker-BP-Sustainability-report-2017': PosixPath('/opt/app-root/src/data/extraction/Aker-BP-Sustainability-report-2017.json'),\n",
       " 'Ameren Corporation Climate Risk Report 2019': PosixPath('/opt/app-root/src/data/extraction/Ameren Corporation Climate Risk Report 2019.json'),\n",
       " 'Ameren Corporation Sustainability Template 2019': PosixPath('/opt/app-root/src/data/extraction/Ameren Corporation Sustainability Template 2019.json'),\n",
       " 'Ameren_2019_Annual_Report': PosixPath('/opt/app-root/src/data/extraction/Ameren_2019_Annual_Report.json'),\n",
       " 'Annual Report 2016_0': PosixPath('/opt/app-root/src/data/extraction/Annual Report 2016_0.json'),\n",
       " 'Annual-Report-2018': PosixPath('/opt/app-root/src/data/extraction/Annual-Report-2018.json'),\n",
       " 'Annual-report-2019': PosixPath('/opt/app-root/src/data/extraction/Annual-report-2019.json'),\n",
       " 'Annual_Report_and_Accounts_Galp_2017_1': PosixPath('/opt/app-root/src/data/extraction/Annual_Report_and_Accounts_Galp_2017_1.json'),\n",
       " 'BASF_Report_2016': PosixPath('/opt/app-root/src/data/extraction/BASF_Report_2016.json'),\n",
       " 'BASF_Report_2017': PosixPath('/opt/app-root/src/data/extraction/BASF_Report_2017.json'),\n",
       " 'BASF_Report_2018': PosixPath('/opt/app-root/src/data/extraction/BASF_Report_2018.json'),\n",
       " 'China Resources Power Holdings Co Ltd Annual Report 2018': PosixPath('/opt/app-root/src/data/extraction/China Resources Power Holdings Co Ltd Annual Report 2018.json'),\n",
       " 'China Resources Power Holdings Co Ltd Sustainable Development Report 2018': PosixPath('/opt/app-root/src/data/extraction/China Resources Power Holdings Co Ltd Sustainable Development Report 2018.json'),\n",
       " 'Coal India Ltd Annual Report 2018-2019': PosixPath('/opt/app-root/src/data/extraction/Coal India Ltd Annual Report 2018-2019.json'),\n",
       " 'DTE Energy Co ESG Report 2019': PosixPath('/opt/app-root/src/data/extraction/DTE Energy Co ESG Report 2019.json'),\n",
       " 'DTEK BV Group Integrated Report 2017': PosixPath('/opt/app-root/src/data/extraction/DTEK BV Group Integrated Report 2017.json'),\n",
       " 'DTEK BV Group Integrated Report 2018': PosixPath('/opt/app-root/src/data/extraction/DTEK BV Group Integrated Report 2018.json'),\n",
       " 'Duke Energy Corporation Annual Report 2018': PosixPath('/opt/app-root/src/data/extraction/Duke Energy Corporation Annual Report 2018.json'),\n",
       " 'Duke Energy Corporation Sustainability Report 2018': PosixPath('/opt/app-root/src/data/extraction/Duke Energy Corporation Sustainability Report 2018.json'),\n",
       " 'Electricity Generating Authority of Thailand (EGAT) Corporate Website': PosixPath('/opt/app-root/src/data/extraction/Electricity Generating Authority of Thailand (EGAT) Corporate Website.json'),\n",
       " 'Endesa SA Annual Report 2018': PosixPath('/opt/app-root/src/data/extraction/Endesa SA Annual Report 2018.json'),\n",
       " 'Endesa SA Sustainability Report 2018': PosixPath('/opt/app-root/src/data/extraction/Endesa SA Sustainability Report 2018.json'),\n",
       " 'Enel SA sustainability-report-2018': PosixPath('/opt/app-root/src/data/extraction/Enel SA sustainability-report-2018.json'),\n",
       " 'Enel SpA Annual Report 2019': PosixPath('/opt/app-root/src/data/extraction/Enel SpA Annual Report 2019.json'),\n",
       " 'Enel annual-report-2018': PosixPath('/opt/app-root/src/data/extraction/Enel annual-report-2018.json'),\n",
       " 'EniFor-2018-eng': PosixPath('/opt/app-root/src/data/extraction/EniFor-2018-eng.json'),\n",
       " 'Ervia-Annual-Report-2018': PosixPath('/opt/app-root/src/data/extraction/Ervia-Annual-Report-2018.json'),\n",
       " 'Eskom Holdings SOC Ltd Integrated Report 2019': PosixPath('/opt/app-root/src/data/extraction/Eskom Holdings SOC Ltd Integrated Report 2019.json'),\n",
       " 'FUGRO_JV2019_Clickable': PosixPath('/opt/app-root/src/data/extraction/FUGRO_JV2019_Clickable.json'),\n",
       " 'GO SNG 2018 Eng annual': PosixPath('/opt/app-root/src/data/extraction/GO SNG 2018 Eng annual.json'),\n",
       " 'Galp_Integrated_Report_2018': PosixPath('/opt/app-root/src/data/extraction/Galp_Integrated_Report_2018.json'),\n",
       " 'Galp_PartI_IntegratedManagementReport_2019_ENG': PosixPath('/opt/app-root/src/data/extraction/Galp_PartI_IntegratedManagementReport_2019_ENG.json'),\n",
       " 'Great Plains Energy Inc Sustainability Template 2019': PosixPath('/opt/app-root/src/data/extraction/Great Plains Energy Inc Sustainability Template 2019.json'),\n",
       " 'J-POWER (Electric Power Development Co., Ltd.)_report': PosixPath('/opt/app-root/src/data/extraction/J-POWER (Electric Power Development Co., Ltd.)_report.json'),\n",
       " 'LSE_WG_2016': PosixPath('/opt/app-root/src/data/extraction/LSE_WG_2016.json'),\n",
       " 'LUKOIL_ANNUAL_REPORT_2018_ENG': PosixPath('/opt/app-root/src/data/extraction/LUKOIL_ANNUAL_REPORT_2018_ENG.json'),\n",
       " 'LUKOIL_SUSTAINABILITY_REPORT_2018': PosixPath('/opt/app-root/src/data/extraction/LUKOIL_SUSTAINABILITY_REPORT_2018.json'),\n",
       " 'Maharashtra State Power Generation Co. Ltd._website': PosixPath('/opt/app-root/src/data/extraction/Maharashtra State Power Generation Co. Ltd._website.json'),\n",
       " 'NRG Energy Inc_2018-nrg-sustainability-report': PosixPath('/opt/app-root/src/data/extraction/NRG Energy Inc_2018-nrg-sustainability-report.json'),\n",
       " 'NRG Energy Inc_Form 10 K': PosixPath('/opt/app-root/src/data/extraction/NRG Energy Inc_Form 10 K.json'),\n",
       " 'NTPC Limited-Report-FY-19': PosixPath('/opt/app-root/src/data/extraction/NTPC Limited-Report-FY-19.json'),\n",
       " 'NYSE_TOT_2015 annual': PosixPath('/opt/app-root/src/data/extraction/NYSE_TOT_2015 annual.json'),\n",
       " 'NYSE_TOT_2016 annual': PosixPath('/opt/app-root/src/data/extraction/NYSE_TOT_2016 annual.json'),\n",
       " 'NYSE_TOT_2017 annual': PosixPath('/opt/app-root/src/data/extraction/NYSE_TOT_2017 annual.json'),\n",
       " 'NYSE_TOT_2018 annual': PosixPath('/opt/app-root/src/data/extraction/NYSE_TOT_2018 annual.json'),\n",
       " 'ORI20022020_2019_annual_financial_report_tcm14-174953': PosixPath('/opt/app-root/src/data/extraction/ORI20022020_2019_annual_financial_report_tcm14-174953.json'),\n",
       " 'PAO OGK-2_AR 2018': PosixPath('/opt/app-root/src/data/extraction/PAO OGK-2_AR 2018.json'),\n",
       " 'PGE-Presentation_Q42018_EN': PosixPath('/opt/app-root/src/data/extraction/PGE-Presentation_Q42018_EN.json'),\n",
       " 'PGE-in-transition_june_2019v_with comments': PosixPath('/opt/app-root/src/data/extraction/PGE-in-transition_june_2019v_with comments.json'),\n",
       " 'PGE_Mngmnt_Board_consolidated_report_PGE_CG_2018_with comments': PosixPath('/opt/app-root/src/data/extraction/PGE_Mngmnt_Board_consolidated_report_PGE_CG_2018_with comments.json'),\n",
       " 'PJSC Tatneft annual report 2015': PosixPath('/opt/app-root/src/data/extraction/PJSC Tatneft annual report 2015.json'),\n",
       " 'PJSC Tatneft annual report 2017': PosixPath('/opt/app-root/src/data/extraction/PJSC Tatneft annual report 2017.json'),\n",
       " 'PJSC Tatneft annual report 2018': PosixPath('/opt/app-root/src/data/extraction/PJSC Tatneft annual report 2018.json'),\n",
       " 'RN_SR2018_eng_web_1 sustainability 2017': PosixPath('/opt/app-root/src/data/extraction/RN_SR2018_eng_web_1 sustainability 2017.json'),\n",
       " 'RN_SR_2016_EN(2) sustainabilitz 2016': PosixPath('/opt/app-root/src/data/extraction/RN_SR_2016_EN(2) sustainabilitz 2016.json'),\n",
       " 'RN_SR_2016_EN_2_ sustainabilitz 2016': PosixPath('/opt/app-root/src/data/extraction/RN_SR_2016_EN_2_ sustainabilitz 2016.json'),\n",
       " 'RWE ESG presentation': PosixPath('/opt/app-root/src/data/extraction/RWE ESG presentation.json'),\n",
       " 'RWE Investor Presentation': PosixPath('/opt/app-root/src/data/extraction/RWE Investor Presentation.json'),\n",
       " 'RWE-annual-report-2019': PosixPath('/opt/app-root/src/data/extraction/RWE-annual-report-2019.json'),\n",
       " 'RWE-csr_overall-report-2019': PosixPath('/opt/app-root/src/data/extraction/RWE-csr_overall-report-2019.json'),\n",
       " 'RWE-factbook_report-2018': PosixPath('/opt/app-root/src/data/extraction/RWE-factbook_report-2018.json'),\n",
       " 'Rosneft_CSR18_EN_Book sustainabilitz 2018 ': PosixPath('/opt/app-root/src/data/extraction/Rosneft_CSR18_EN_Book sustainabilitz 2018 .json'),\n",
       " 'SAIPEM SUSTAINABILITY 2016': PosixPath('/opt/app-root/src/data/extraction/SAIPEM SUSTAINABILITY 2016.json'),\n",
       " 'SG-RSE2016-2017-EN': PosixPath('/opt/app-root/src/data/extraction/SG-RSE2016-2017-EN.json'),\n",
       " 'SUEK_AR19_ENG': PosixPath('/opt/app-root/src/data/extraction/SUEK_AR19_ENG.json'),\n",
       " 'SaipemSustainability2018': PosixPath('/opt/app-root/src/data/extraction/SaipemSustainability2018.json'),\n",
       " 'Sustainability Report 2012_EN': PosixPath('/opt/app-root/src/data/extraction/Sustainability Report 2012_EN.json'),\n",
       " 'Sustainability Report 2013_EN': PosixPath('/opt/app-root/src/data/extraction/Sustainability Report 2013_EN.json'),\n",
       " 'Sustainability Report 2014_EN': PosixPath('/opt/app-root/src/data/extraction/Sustainability Report 2014_EN.json'),\n",
       " 'Sustainability Report 2015_EN': PosixPath('/opt/app-root/src/data/extraction/Sustainability Report 2015_EN.json'),\n",
       " 'Sustainability Report 2016_EN': PosixPath('/opt/app-root/src/data/extraction/Sustainability Report 2016_EN.json'),\n",
       " 'Sustainability Report 2017_EN': PosixPath('/opt/app-root/src/data/extraction/Sustainability Report 2017_EN.json'),\n",
       " 'Sustainability_Report_2017_Eng_small_1_': PosixPath('/opt/app-root/src/data/extraction/Sustainability_Report_2017_Eng_small_1_.json'),\n",
       " 'TGS-AR2019-FINAL-WEB-PAGES-reduced annual ': PosixPath('/opt/app-root/src/data/extraction/TGS-AR2019-FINAL-WEB-PAGES-reduced annual .json'),\n",
       " 'Teekay-Corporation-2018-Sustainability-Report': PosixPath('/opt/app-root/src/data/extraction/Teekay-Corporation-2018-Sustainability-Report.json'),\n",
       " 'Transocean_Sustain_digital_FN_4 2017_2018': PosixPath('/opt/app-root/src/data/extraction/Transocean_Sustain_digital_FN_4 2017_2018.json'),\n",
       " 'Uniper_Sustainability_Report_2018': PosixPath('/opt/app-root/src/data/extraction/Uniper_Sustainability_Report_2018.json'),\n",
       " 'Uniper_Sustainability_Report_2019_EN': PosixPath('/opt/app-root/src/data/extraction/Uniper_Sustainability_Report_2019_EN.json'),\n",
       " 'University of Plymouth Sustainability_Report_2018': PosixPath('/opt/app-root/src/data/extraction/University of Plymouth Sustainability_Report_2018.json'),\n",
       " 'VERBUND-Integrated-Annual-Report-2018-English': PosixPath('/opt/app-root/src/data/extraction/VERBUND-Integrated-Annual-Report-2018-English.json'),\n",
       " 'VERBUND-Integrated-Annual-Report-2019-Englisch': PosixPath('/opt/app-root/src/data/extraction/VERBUND-Integrated-Annual-Report-2019-Englisch.json'),\n",
       " 'Vietnam Electricity Corporation (EVN)_AnnualReport2018(1)': PosixPath('/opt/app-root/src/data/extraction/Vietnam Electricity Corporation (EVN)_AnnualReport2018(1).json'),\n",
       " 'Wintershall Dea annual report 2019': PosixPath('/opt/app-root/src/data/extraction/Wintershall Dea annual report 2019.json'),\n",
       " 'Wintershall-Dea_Sustainability_Report_2019': PosixPath('/opt/app-root/src/data/extraction/Wintershall-Dea_Sustainability_Report_2019.json'),\n",
       " 'Wood_Sustainability_Report_2018-19_web-1': PosixPath('/opt/app-root/src/data/extraction/Wood_Sustainability_Report_2018-19_web-1.json'),\n",
       " 'XCEL Energy Inc_AR 2018': PosixPath('/opt/app-root/src/data/extraction/XCEL Energy Inc_AR 2018.json'),\n",
       " 'XCEL Energy Inc_CRR-Performance-Summary': PosixPath('/opt/app-root/src/data/extraction/XCEL Energy Inc_CRR-Performance-Summary.json'),\n",
       " 'annual 2015': PosixPath('/opt/app-root/src/data/extraction/annual 2015.json'),\n",
       " 'annual 2016': PosixPath('/opt/app-root/src/data/extraction/annual 2016.json'),\n",
       " 'annual 2017': PosixPath('/opt/app-root/src/data/extraction/annual 2017.json'),\n",
       " 'annual 2018': PosixPath('/opt/app-root/src/data/extraction/annual 2018.json'),\n",
       " 'annual-report-and-accounts': PosixPath('/opt/app-root/src/data/extraction/annual-report-and-accounts.json'),\n",
       " 'annual_report_2019_eng': PosixPath('/opt/app-root/src/data/extraction/annual_report_2019_eng.json'),\n",
       " 'ar_2016_book_eng_0606': PosixPath('/opt/app-root/src/data/extraction/ar_2016_book_eng_0606.json'),\n",
       " 'ar_2019_e': PosixPath('/opt/app-root/src/data/extraction/ar_2019_e.json'),\n",
       " 'dload_Sustainability Report 2018_en': PosixPath('/opt/app-root/src/data/extraction/dload_Sustainability Report 2018_en.json'),\n",
       " 'dload_sustainabilityreport2019_EN': PosixPath('/opt/app-root/src/data/extraction/dload_sustainabilityreport2019_EN.json'),\n",
       " 'equinor-2019-annual-report-and-form-20f': PosixPath('/opt/app-root/src/data/extraction/equinor-2019-annual-report-and-form-20f.json'),\n",
       " 'gazprom-environmental-report-2018-en': PosixPath('/opt/app-root/src/data/extraction/gazprom-environmental-report-2018-en.json'),\n",
       " 'gb_2019-en_interaktiv': PosixPath('/opt/app-root/src/data/extraction/gb_2019-en_interaktiv.json'),\n",
       " 'hunting-annual-report-2015_Tu': PosixPath('/opt/app-root/src/data/extraction/hunting-annual-report-2015_Tu.json'),\n",
       " 'mol_group_integrated_annual_report_2018': PosixPath('/opt/app-root/src/data/extraction/mol_group_integrated_annual_report_2018.json'),\n",
       " 'mol_plc_s_parent_company_annual_report_2017_en': PosixPath('/opt/app-root/src/data/extraction/mol_plc_s_parent_company_annual_report_2017_en.json'),\n",
       " 'national-grid-plc-annual-report-and-accounts-2013-14': PosixPath('/opt/app-root/src/data/extraction/national-grid-plc-annual-report-and-accounts-2013-14.json'),\n",
       " 'national-grid-plc-annual-report-and-accounts': PosixPath('/opt/app-root/src/data/extraction/national-grid-plc-annual-report-and-accounts.json'),\n",
       " 'ng-40940-ng-ar-final-lores-2013-05-23': PosixPath('/opt/app-root/src/data/extraction/ng-40940-ng-ar-final-lores-2013-05-23.json'),\n",
       " 'ng-annual-report-and-accounts-2018-19': PosixPath('/opt/app-root/src/data/extraction/ng-annual-report-and-accounts-2018-19.json'),\n",
       " 'odfjell-se-annual-report-2018': PosixPath('/opt/app-root/src/data/extraction/odfjell-se-annual-report-2018.json'),\n",
       " 'shell_annual_report_2018': PosixPath('/opt/app-root/src/data/extraction/shell_annual_report_2018.json'),\n",
       " 'shell_annual_report_2019': PosixPath('/opt/app-root/src/data/extraction/shell_annual_report_2019.json'),\n",
       " 'shell_sustainability_report_2018': PosixPath('/opt/app-root/src/data/extraction/shell_sustainability_report_2018.json'),\n",
       " 'shell_sustainability_report_2019': PosixPath('/opt/app-root/src/data/extraction/shell_sustainability_report_2019.json'),\n",
       " 'sr_2019_e': PosixPath('/opt/app-root/src/data/extraction/sr_2019_e.json'),\n",
       " 'sustainability 2015': PosixPath('/opt/app-root/src/data/extraction/sustainability 2015.json'),\n",
       " 'sustainability-report-2019': PosixPath('/opt/app-root/src/data/extraction/sustainability-report-2019.json'),\n",
       " 'sustainability-report-repsol-2016-eng-april-baja_tcm14-63403': PosixPath('/opt/app-root/src/data/extraction/sustainability-report-repsol-2016-eng-april-baja_tcm14-63403.json'),\n",
       " 'sustainable development 2017': PosixPath('/opt/app-root/src/data/extraction/sustainable development 2017.json'),\n",
       " 'vopak_annual_report_2019': PosixPath('/opt/app-root/src/data/extraction/vopak_annual_report_2019.json')}"
      ]
     },
     "execution_count": 62,
     "metadata": {},
     "output_type": "execute_result"
    }
   ],
   "source": [
    "all_text_path_dict"
   ]
  },
  {
   "cell_type": "code",
   "execution_count": 63,
   "id": "ca32a7bf",
   "metadata": {},
   "outputs": [
    {
     "name": "stdout",
     "output_type": "stream",
     "text": [
      "144\n"
     ]
    }
   ],
   "source": [
    "print(num_pdfs)"
   ]
  },
  {
   "cell_type": "code",
   "execution_count": null,
   "id": "118ac1d9",
   "metadata": {},
   "outputs": [],
   "source": [
    "metric_list = []\n",
    "for local_model_path, model_name in zip(local_model_paths,model_names):\n",
    "    for i, (pdf_name,file_path) in enumerate(all_text_path_dict.items()):\n",
    "        print(f\"loop : {i}\")\n",
    "        tokenizer = AutoTokenizer.from_pretrained(local_model_path, use_fast=True)\n",
    "        model = AutoModelForSequenceClassification.from_pretrained(local_model_path).to(device)\n",
    "        encoded_dataset = create_batches(test_data)\n",
    "\n",
    "        print(f'Processing {i+1}/{len(all_text_path_dict)}, {pdf_name}')\n",
    "        data = gather_data(pdf_name, file_path)\n",
    "        num_data_points = len(data)\n",
    "        num_pages = data[len(data)-1]['page']\n",
    "        chunk_size = 1000\n",
    "        chunk_idx = 0\n",
    "        total_file_time = 0\n",
    "\n",
    "        predictions = list()\n",
    "        while chunk_idx * chunk_size < num_data_points:\n",
    "            chunk_start = time.time()\n",
    "            data_chunk = data[chunk_idx * chunk_size:(chunk_idx + 1) * chunk_size]\n",
    "            temp_df = pd.DataFrame(data_chunk).drop(['pdf_name', 'page'], axis=1)\n",
    "            encoded_dataset = create_batches(temp_df, batch_size=128)\n",
    "            predictions.extend(predict(encoded_dataset))\n",
    "            chunk_idx += 1\n",
    "            chunk_end = time.time()\n",
    "            total_file_time += (chunk_end - chunk_start)\n",
    "\n",
    "        time_per_data_point = total_file_time / num_data_points\n",
    "        data_points_per_sec = 1/time_per_data_point\n",
    "        model_size = os.path.getsize(local_model_path + 'pytorch_model.bin')/1000000\n",
    "\n",
    "        metric_list.append(\n",
    "            {'Model Name':model_name,\n",
    "             'Model Size(MB)': model_size,\n",
    "             'PDF Name':pdf_name,\n",
    "             'Number of Pages':int(num_pages),\n",
    "             'Number of Data Points':num_data_points,\n",
    "             'Total Inference Time':total_file_time,\n",
    "             'Time per data point':time_per_data_point,\n",
    "             'Data points per sec':data_points_per_sec})\n",
    "\n",
    "    file_to_save = pd.DataFrame(metric_list)\n",
    "    file_to_save.to_csv(f\"file_to_save_{model_name}.csv\")"
   ]
  },
  {
   "cell_type": "code",
   "execution_count": null,
   "id": "26b575aa",
   "metadata": {},
   "outputs": [],
   "source": [
    "metric_dfs = pd.DataFrame(metric_list)"
   ]
  },
  {
   "cell_type": "code",
   "execution_count": null,
   "id": "39993a5e",
   "metadata": {},
   "outputs": [],
   "source": [
    "metric_dfs.head()"
   ]
  },
  {
   "cell_type": "markdown",
   "id": "093c040c",
   "metadata": {},
   "source": [
    "**Model Name: distilbert_mnli_pruned80, Size: 267.85 MB**"
   ]
  },
  {
   "cell_type": "code",
   "execution_count": 32,
   "id": "23de10b2",
   "metadata": {},
   "outputs": [],
   "source": [
    "df = pd.read_csv(\"file_to_save_models_perf.csv\")\n",
    "df1 = df[df['Model Name']=='distilbert_mnli_pruned80']"
   ]
  },
  {
   "cell_type": "code",
   "execution_count": 33,
   "id": "a5afefd7",
   "metadata": {},
   "outputs": [
    {
     "data": {
      "text/html": [
       "<div>\n",
       "<style scoped>\n",
       "    .dataframe tbody tr th:only-of-type {\n",
       "        vertical-align: middle;\n",
       "    }\n",
       "\n",
       "    .dataframe tbody tr th {\n",
       "        vertical-align: top;\n",
       "    }\n",
       "\n",
       "    .dataframe thead th {\n",
       "        text-align: right;\n",
       "    }\n",
       "</style>\n",
       "<table border=\"1\" class=\"dataframe\">\n",
       "  <thead>\n",
       "    <tr style=\"text-align: right;\">\n",
       "      <th></th>\n",
       "      <th>Unnamed: 0</th>\n",
       "      <th>Model Name</th>\n",
       "      <th>Model Size(MB)</th>\n",
       "      <th>PDF Name</th>\n",
       "      <th>Number of Pages</th>\n",
       "      <th>Number of Data Points</th>\n",
       "      <th>Total Inference Time</th>\n",
       "      <th>Time per data point</th>\n",
       "      <th>Data points per sec</th>\n",
       "    </tr>\n",
       "  </thead>\n",
       "  <tbody>\n",
       "    <tr>\n",
       "      <th>0</th>\n",
       "      <td>0</td>\n",
       "      <td>distilbert_mnli_pruned80</td>\n",
       "      <td>267.857431</td>\n",
       "      <td>04_NOVATEK_AR_2016_ENG_11</td>\n",
       "      <td>119</td>\n",
       "      <td>24264</td>\n",
       "      <td>67.520567</td>\n",
       "      <td>0.002783</td>\n",
       "      <td>359.357172</td>\n",
       "    </tr>\n",
       "    <tr>\n",
       "      <th>1</th>\n",
       "      <td>1</td>\n",
       "      <td>distilbert_mnli_pruned80</td>\n",
       "      <td>267.857431</td>\n",
       "      <td>04_NOVATEK_AR_2018_ENG_15</td>\n",
       "      <td>105</td>\n",
       "      <td>23112</td>\n",
       "      <td>61.819848</td>\n",
       "      <td>0.002675</td>\n",
       "      <td>373.860511</td>\n",
       "    </tr>\n",
       "    <tr>\n",
       "      <th>2</th>\n",
       "      <td>2</td>\n",
       "      <td>distilbert_mnli_pruned80</td>\n",
       "      <td>267.857431</td>\n",
       "      <td>2013_book_mol_ar_eng_fin</td>\n",
       "      <td>135</td>\n",
       "      <td>63024</td>\n",
       "      <td>214.157398</td>\n",
       "      <td>0.003398</td>\n",
       "      <td>294.288223</td>\n",
       "    </tr>\n",
       "    <tr>\n",
       "      <th>3</th>\n",
       "      <td>3</td>\n",
       "      <td>distilbert_mnli_pruned80</td>\n",
       "      <td>267.857431</td>\n",
       "      <td>2015_BASF_Report</td>\n",
       "      <td>261</td>\n",
       "      <td>76392</td>\n",
       "      <td>270.319963</td>\n",
       "      <td>0.003539</td>\n",
       "      <td>282.598441</td>\n",
       "    </tr>\n",
       "    <tr>\n",
       "      <th>4</th>\n",
       "      <td>4</td>\n",
       "      <td>distilbert_mnli_pruned80</td>\n",
       "      <td>267.857431</td>\n",
       "      <td>2017 Sustainability Report</td>\n",
       "      <td>57</td>\n",
       "      <td>21936</td>\n",
       "      <td>37.991996</td>\n",
       "      <td>0.001732</td>\n",
       "      <td>577.384773</td>\n",
       "    </tr>\n",
       "  </tbody>\n",
       "</table>\n",
       "</div>"
      ],
      "text/plain": [
       "   Unnamed: 0                Model Name  Model Size(MB)  \\\n",
       "0           0  distilbert_mnli_pruned80      267.857431   \n",
       "1           1  distilbert_mnli_pruned80      267.857431   \n",
       "2           2  distilbert_mnli_pruned80      267.857431   \n",
       "3           3  distilbert_mnli_pruned80      267.857431   \n",
       "4           4  distilbert_mnli_pruned80      267.857431   \n",
       "\n",
       "                     PDF Name  Number of Pages  Number of Data Points  \\\n",
       "0   04_NOVATEK_AR_2016_ENG_11              119                  24264   \n",
       "1   04_NOVATEK_AR_2018_ENG_15              105                  23112   \n",
       "2    2013_book_mol_ar_eng_fin              135                  63024   \n",
       "3            2015_BASF_Report              261                  76392   \n",
       "4  2017 Sustainability Report               57                  21936   \n",
       "\n",
       "   Total Inference Time  Time per data point  Data points per sec  \n",
       "0             67.520567             0.002783           359.357172  \n",
       "1             61.819848             0.002675           373.860511  \n",
       "2            214.157398             0.003398           294.288223  \n",
       "3            270.319963             0.003539           282.598441  \n",
       "4             37.991996             0.001732           577.384773  "
      ]
     },
     "execution_count": 33,
     "metadata": {},
     "output_type": "execute_result"
    }
   ],
   "source": [
    "df1.head()"
   ]
  },
  {
   "cell_type": "code",
   "execution_count": 34,
   "id": "cafa16a4",
   "metadata": {},
   "outputs": [
    {
     "data": {
      "text/plain": [
       "count    144.000000\n",
       "mean     156.958333\n",
       "std      117.550041\n",
       "min        0.000000\n",
       "25%       73.250000\n",
       "50%      127.500000\n",
       "75%      224.250000\n",
       "max      653.000000\n",
       "Name: Number of Pages, dtype: float64"
      ]
     },
     "execution_count": 34,
     "metadata": {},
     "output_type": "execute_result"
    }
   ],
   "source": [
    "#Average number of pages\n",
    "\n",
    "df1['Number of Pages'].describe()"
   ]
  },
  {
   "cell_type": "code",
   "execution_count": 35,
   "id": "30bc1762",
   "metadata": {},
   "outputs": [
    {
     "data": {
      "text/plain": [
       "count    144.000000\n",
       "mean       0.002414\n",
       "std        0.000953\n",
       "min        0.000629\n",
       "25%        0.001872\n",
       "50%        0.002326\n",
       "75%        0.002907\n",
       "max        0.005167\n",
       "Name: Time per data point, dtype: float64"
      ]
     },
     "execution_count": 35,
     "metadata": {},
     "output_type": "execute_result"
    }
   ],
   "source": [
    "# Average time per data point\n",
    "\n",
    "df1['Time per data point'].describe()"
   ]
  },
  {
   "cell_type": "code",
   "execution_count": 36,
   "id": "3ffba84a",
   "metadata": {},
   "outputs": [
    {
     "data": {
      "text/plain": [
       "count       144.0000\n",
       "mean      60703.5000\n",
       "std       68273.4301\n",
       "min         240.0000\n",
       "25%       20136.0000\n",
       "50%       42192.0000\n",
       "75%       80496.0000\n",
       "max      469680.0000\n",
       "Name: Number of Data Points, dtype: float64"
      ]
     },
     "execution_count": 36,
     "metadata": {},
     "output_type": "execute_result"
    }
   ],
   "source": [
    "# Average number of data points\n",
    "\n",
    "df1['Number of Data Points'].describe()"
   ]
  },
  {
   "cell_type": "markdown",
   "id": "7bb5cb01",
   "metadata": {},
   "source": [
    "The average time per data point is 0.002414 seconds. A pdf with on average ~157 pages, and ~ 387 data points per page, will take ~146 seconds or 2.4 mins to execute."
   ]
  },
  {
   "cell_type": "markdown",
   "id": "9db31b48",
   "metadata": {},
   "source": [
    "**Model_Name : distilbert_qqp_pruned80, Size: 267.8 MB**"
   ]
  },
  {
   "cell_type": "code",
   "execution_count": 37,
   "id": "af40449b",
   "metadata": {},
   "outputs": [],
   "source": [
    "df = pd.read_csv(\"file_to_save_models_perf.csv\")\n",
    "df2 = df[df['Model Name']=='distilbert_qqp_pruned80']"
   ]
  },
  {
   "cell_type": "code",
   "execution_count": 38,
   "id": "d05084d6",
   "metadata": {},
   "outputs": [
    {
     "data": {
      "text/html": [
       "<div>\n",
       "<style scoped>\n",
       "    .dataframe tbody tr th:only-of-type {\n",
       "        vertical-align: middle;\n",
       "    }\n",
       "\n",
       "    .dataframe tbody tr th {\n",
       "        vertical-align: top;\n",
       "    }\n",
       "\n",
       "    .dataframe thead th {\n",
       "        text-align: right;\n",
       "    }\n",
       "</style>\n",
       "<table border=\"1\" class=\"dataframe\">\n",
       "  <thead>\n",
       "    <tr style=\"text-align: right;\">\n",
       "      <th></th>\n",
       "      <th>Unnamed: 0</th>\n",
       "      <th>Model Name</th>\n",
       "      <th>Model Size(MB)</th>\n",
       "      <th>PDF Name</th>\n",
       "      <th>Number of Pages</th>\n",
       "      <th>Number of Data Points</th>\n",
       "      <th>Total Inference Time</th>\n",
       "      <th>Time per data point</th>\n",
       "      <th>Data points per sec</th>\n",
       "    </tr>\n",
       "  </thead>\n",
       "  <tbody>\n",
       "    <tr>\n",
       "      <th>144</th>\n",
       "      <td>144</td>\n",
       "      <td>distilbert_qqp_pruned80</td>\n",
       "      <td>267.857431</td>\n",
       "      <td>04_NOVATEK_AR_2016_ENG_11</td>\n",
       "      <td>119</td>\n",
       "      <td>24264</td>\n",
       "      <td>67.192897</td>\n",
       "      <td>0.002769</td>\n",
       "      <td>361.109598</td>\n",
       "    </tr>\n",
       "    <tr>\n",
       "      <th>145</th>\n",
       "      <td>145</td>\n",
       "      <td>distilbert_qqp_pruned80</td>\n",
       "      <td>267.857431</td>\n",
       "      <td>04_NOVATEK_AR_2018_ENG_15</td>\n",
       "      <td>105</td>\n",
       "      <td>23112</td>\n",
       "      <td>61.663003</td>\n",
       "      <td>0.002668</td>\n",
       "      <td>374.811459</td>\n",
       "    </tr>\n",
       "    <tr>\n",
       "      <th>146</th>\n",
       "      <td>146</td>\n",
       "      <td>distilbert_qqp_pruned80</td>\n",
       "      <td>267.857431</td>\n",
       "      <td>2013_book_mol_ar_eng_fin</td>\n",
       "      <td>135</td>\n",
       "      <td>63024</td>\n",
       "      <td>213.188499</td>\n",
       "      <td>0.003383</td>\n",
       "      <td>295.625704</td>\n",
       "    </tr>\n",
       "    <tr>\n",
       "      <th>147</th>\n",
       "      <td>147</td>\n",
       "      <td>distilbert_qqp_pruned80</td>\n",
       "      <td>267.857431</td>\n",
       "      <td>2015_BASF_Report</td>\n",
       "      <td>261</td>\n",
       "      <td>76392</td>\n",
       "      <td>269.923002</td>\n",
       "      <td>0.003533</td>\n",
       "      <td>283.014042</td>\n",
       "    </tr>\n",
       "    <tr>\n",
       "      <th>148</th>\n",
       "      <td>148</td>\n",
       "      <td>distilbert_qqp_pruned80</td>\n",
       "      <td>267.857431</td>\n",
       "      <td>2017 Sustainability Report</td>\n",
       "      <td>57</td>\n",
       "      <td>21936</td>\n",
       "      <td>37.874583</td>\n",
       "      <td>0.001727</td>\n",
       "      <td>579.174686</td>\n",
       "    </tr>\n",
       "  </tbody>\n",
       "</table>\n",
       "</div>"
      ],
      "text/plain": [
       "     Unnamed: 0               Model Name  Model Size(MB)  \\\n",
       "144         144  distilbert_qqp_pruned80      267.857431   \n",
       "145         145  distilbert_qqp_pruned80      267.857431   \n",
       "146         146  distilbert_qqp_pruned80      267.857431   \n",
       "147         147  distilbert_qqp_pruned80      267.857431   \n",
       "148         148  distilbert_qqp_pruned80      267.857431   \n",
       "\n",
       "                       PDF Name  Number of Pages  Number of Data Points  \\\n",
       "144   04_NOVATEK_AR_2016_ENG_11              119                  24264   \n",
       "145   04_NOVATEK_AR_2018_ENG_15              105                  23112   \n",
       "146    2013_book_mol_ar_eng_fin              135                  63024   \n",
       "147            2015_BASF_Report              261                  76392   \n",
       "148  2017 Sustainability Report               57                  21936   \n",
       "\n",
       "     Total Inference Time  Time per data point  Data points per sec  \n",
       "144             67.192897             0.002769           361.109598  \n",
       "145             61.663003             0.002668           374.811459  \n",
       "146            213.188499             0.003383           295.625704  \n",
       "147            269.923002             0.003533           283.014042  \n",
       "148             37.874583             0.001727           579.174686  "
      ]
     },
     "execution_count": 38,
     "metadata": {},
     "output_type": "execute_result"
    }
   ],
   "source": [
    "df2.head()"
   ]
  },
  {
   "cell_type": "code",
   "execution_count": 39,
   "id": "12c569d4",
   "metadata": {},
   "outputs": [
    {
     "data": {
      "text/plain": [
       "count    144.000000\n",
       "mean       0.002413\n",
       "std        0.000952\n",
       "min        0.000624\n",
       "25%        0.001876\n",
       "50%        0.002324\n",
       "75%        0.002906\n",
       "max        0.005172\n",
       "Name: Time per data point, dtype: float64"
      ]
     },
     "execution_count": 39,
     "metadata": {},
     "output_type": "execute_result"
    }
   ],
   "source": [
    "# Average time per data point\n",
    "df2['Time per data point'].describe()"
   ]
  },
  {
   "cell_type": "markdown",
   "id": "20c67f34",
   "metadata": {},
   "source": [
    "The average time per data point is 0.002413 seconds. A pdf with on average ~157 pages, and ~387 data points per page, will take ~146 seconds or ~2.4 mins to execute."
   ]
  },
  {
   "cell_type": "markdown",
   "id": "c7d3c34d",
   "metadata": {},
   "source": [
    "**Model_Name : obert_mnli_pruned90, Size: 438.011 MB**"
   ]
  },
  {
   "cell_type": "code",
   "execution_count": 42,
   "id": "93b306e0",
   "metadata": {},
   "outputs": [],
   "source": [
    "df = pd.read_csv(\"file_to_save_models_perf.csv\")\n",
    "df3 = df[df['Model Name']=='obert_mnli_pruned90']"
   ]
  },
  {
   "cell_type": "code",
   "execution_count": 43,
   "id": "07a2aae6",
   "metadata": {},
   "outputs": [
    {
     "data": {
      "text/html": [
       "<div>\n",
       "<style scoped>\n",
       "    .dataframe tbody tr th:only-of-type {\n",
       "        vertical-align: middle;\n",
       "    }\n",
       "\n",
       "    .dataframe tbody tr th {\n",
       "        vertical-align: top;\n",
       "    }\n",
       "\n",
       "    .dataframe thead th {\n",
       "        text-align: right;\n",
       "    }\n",
       "</style>\n",
       "<table border=\"1\" class=\"dataframe\">\n",
       "  <thead>\n",
       "    <tr style=\"text-align: right;\">\n",
       "      <th></th>\n",
       "      <th>Unnamed: 0</th>\n",
       "      <th>Model Name</th>\n",
       "      <th>Model Size(MB)</th>\n",
       "      <th>PDF Name</th>\n",
       "      <th>Number of Pages</th>\n",
       "      <th>Number of Data Points</th>\n",
       "      <th>Total Inference Time</th>\n",
       "      <th>Time per data point</th>\n",
       "      <th>Data points per sec</th>\n",
       "    </tr>\n",
       "  </thead>\n",
       "  <tbody>\n",
       "    <tr>\n",
       "      <th>288</th>\n",
       "      <td>288</td>\n",
       "      <td>obert_mnli_pruned90</td>\n",
       "      <td>438.011337</td>\n",
       "      <td>04_NOVATEK_AR_2016_ENG_11</td>\n",
       "      <td>119</td>\n",
       "      <td>24264</td>\n",
       "      <td>124.831353</td>\n",
       "      <td>0.005145</td>\n",
       "      <td>194.374244</td>\n",
       "    </tr>\n",
       "    <tr>\n",
       "      <th>289</th>\n",
       "      <td>289</td>\n",
       "      <td>obert_mnli_pruned90</td>\n",
       "      <td>438.011337</td>\n",
       "      <td>04_NOVATEK_AR_2018_ENG_15</td>\n",
       "      <td>105</td>\n",
       "      <td>23112</td>\n",
       "      <td>113.925587</td>\n",
       "      <td>0.004929</td>\n",
       "      <td>202.869264</td>\n",
       "    </tr>\n",
       "    <tr>\n",
       "      <th>290</th>\n",
       "      <td>290</td>\n",
       "      <td>obert_mnli_pruned90</td>\n",
       "      <td>438.011337</td>\n",
       "      <td>2013_book_mol_ar_eng_fin</td>\n",
       "      <td>135</td>\n",
       "      <td>63024</td>\n",
       "      <td>399.951331</td>\n",
       "      <td>0.006346</td>\n",
       "      <td>157.579173</td>\n",
       "    </tr>\n",
       "    <tr>\n",
       "      <th>291</th>\n",
       "      <td>291</td>\n",
       "      <td>obert_mnli_pruned90</td>\n",
       "      <td>438.011337</td>\n",
       "      <td>2015_BASF_Report</td>\n",
       "      <td>261</td>\n",
       "      <td>76392</td>\n",
       "      <td>508.218936</td>\n",
       "      <td>0.006653</td>\n",
       "      <td>150.313171</td>\n",
       "    </tr>\n",
       "    <tr>\n",
       "      <th>292</th>\n",
       "      <td>292</td>\n",
       "      <td>obert_mnli_pruned90</td>\n",
       "      <td>438.011337</td>\n",
       "      <td>2017 Sustainability Report</td>\n",
       "      <td>57</td>\n",
       "      <td>21936</td>\n",
       "      <td>68.904382</td>\n",
       "      <td>0.003141</td>\n",
       "      <td>318.354206</td>\n",
       "    </tr>\n",
       "  </tbody>\n",
       "</table>\n",
       "</div>"
      ],
      "text/plain": [
       "     Unnamed: 0           Model Name  Model Size(MB)  \\\n",
       "288         288  obert_mnli_pruned90      438.011337   \n",
       "289         289  obert_mnli_pruned90      438.011337   \n",
       "290         290  obert_mnli_pruned90      438.011337   \n",
       "291         291  obert_mnli_pruned90      438.011337   \n",
       "292         292  obert_mnli_pruned90      438.011337   \n",
       "\n",
       "                       PDF Name  Number of Pages  Number of Data Points  \\\n",
       "288   04_NOVATEK_AR_2016_ENG_11              119                  24264   \n",
       "289   04_NOVATEK_AR_2018_ENG_15              105                  23112   \n",
       "290    2013_book_mol_ar_eng_fin              135                  63024   \n",
       "291            2015_BASF_Report              261                  76392   \n",
       "292  2017 Sustainability Report               57                  21936   \n",
       "\n",
       "     Total Inference Time  Time per data point  Data points per sec  \n",
       "288            124.831353             0.005145           194.374244  \n",
       "289            113.925587             0.004929           202.869264  \n",
       "290            399.951331             0.006346           157.579173  \n",
       "291            508.218936             0.006653           150.313171  \n",
       "292             68.904382             0.003141           318.354206  "
      ]
     },
     "execution_count": 43,
     "metadata": {},
     "output_type": "execute_result"
    }
   ],
   "source": [
    "df3.head()"
   ]
  },
  {
   "cell_type": "code",
   "execution_count": 44,
   "id": "6115ec4c",
   "metadata": {},
   "outputs": [
    {
     "data": {
      "text/plain": [
       "count    144.000000\n",
       "mean       0.004468\n",
       "std        0.001838\n",
       "min        0.001012\n",
       "25%        0.003391\n",
       "50%        0.004323\n",
       "75%        0.005401\n",
       "max        0.009847\n",
       "Name: Time per data point, dtype: float64"
      ]
     },
     "execution_count": 44,
     "metadata": {},
     "output_type": "execute_result"
    }
   ],
   "source": [
    "# Average time per data point\n",
    "\n",
    "df3['Time per data point'].describe()"
   ]
  },
  {
   "cell_type": "markdown",
   "id": "03a4542d",
   "metadata": {},
   "source": [
    "The average time per data point is 0.004468 seconds. A pdf with on average ~157 pages, and ~387 data points per page, will take ~271 seconds or 4.5 mins to execute."
   ]
  },
  {
   "cell_type": "markdown",
   "id": "4f31cfdb",
   "metadata": {},
   "source": [
    "# Conclusion"
   ]
  },
  {
   "cell_type": "markdown",
   "id": "1579e0a8",
   "metadata": {},
   "source": [
    "Here we create a conclusive table which contains the information about different models."
   ]
  },
  {
   "cell_type": "code",
   "execution_count": 39,
   "id": "5f47d04a",
   "metadata": {},
   "outputs": [],
   "source": [
    "final_table = {'model_name':['farm bert based model',\n",
    "                             'distilbert-base-uncased',\n",
    "                             'distilbert_mnli_pruned80',\n",
    "                             'distilbert_qqp_pruned80',\n",
    "                             'obert_mnli_pruned90'],\n",
    "               'model_size (MB)':[475.6,268, 267.8, 267.8, 438.0],\n",
    "               'inference_time_for_avg_pdf (mins)':[6.5, 2.1, 2.4, 2.4, 4.5],\n",
    "               'F1_Score':[0.9156, 0.9179, 0.9071, 0.9139, 0.8959]}"
   ]
  },
  {
   "cell_type": "code",
   "execution_count": 40,
   "id": "26a9ae28",
   "metadata": {},
   "outputs": [
    {
     "data": {
      "text/html": [
       "<div>\n",
       "<style scoped>\n",
       "    .dataframe tbody tr th:only-of-type {\n",
       "        vertical-align: middle;\n",
       "    }\n",
       "\n",
       "    .dataframe tbody tr th {\n",
       "        vertical-align: top;\n",
       "    }\n",
       "\n",
       "    .dataframe thead th {\n",
       "        text-align: right;\n",
       "    }\n",
       "</style>\n",
       "<table border=\"1\" class=\"dataframe\">\n",
       "  <thead>\n",
       "    <tr style=\"text-align: right;\">\n",
       "      <th></th>\n",
       "      <th>model_name</th>\n",
       "      <th>model_size (MB)</th>\n",
       "      <th>inference_time_for_avg_pdf (mins)</th>\n",
       "      <th>F1_Score</th>\n",
       "    </tr>\n",
       "  </thead>\n",
       "  <tbody>\n",
       "    <tr>\n",
       "      <th>0</th>\n",
       "      <td>farm bert based model</td>\n",
       "      <td>475.6</td>\n",
       "      <td>6.5</td>\n",
       "      <td>0.9156</td>\n",
       "    </tr>\n",
       "    <tr>\n",
       "      <th>1</th>\n",
       "      <td>distilbert-base-uncased</td>\n",
       "      <td>268.0</td>\n",
       "      <td>2.1</td>\n",
       "      <td>0.9179</td>\n",
       "    </tr>\n",
       "    <tr>\n",
       "      <th>2</th>\n",
       "      <td>distilbert_mnli_pruned80</td>\n",
       "      <td>267.8</td>\n",
       "      <td>2.4</td>\n",
       "      <td>0.9071</td>\n",
       "    </tr>\n",
       "    <tr>\n",
       "      <th>3</th>\n",
       "      <td>distilbert_qqp_pruned80</td>\n",
       "      <td>267.8</td>\n",
       "      <td>2.4</td>\n",
       "      <td>0.9139</td>\n",
       "    </tr>\n",
       "    <tr>\n",
       "      <th>4</th>\n",
       "      <td>obert_mnli_pruned90</td>\n",
       "      <td>438.0</td>\n",
       "      <td>4.5</td>\n",
       "      <td>0.8959</td>\n",
       "    </tr>\n",
       "  </tbody>\n",
       "</table>\n",
       "</div>"
      ],
      "text/plain": [
       "                 model_name  model_size (MB)  \\\n",
       "0     farm bert based model            475.6   \n",
       "1   distilbert-base-uncased            268.0   \n",
       "2  distilbert_mnli_pruned80            267.8   \n",
       "3   distilbert_qqp_pruned80            267.8   \n",
       "4       obert_mnli_pruned90            438.0   \n",
       "\n",
       "   inference_time_for_avg_pdf (mins)  F1_Score  \n",
       "0                                6.5    0.9156  \n",
       "1                                2.1    0.9179  \n",
       "2                                2.4    0.9071  \n",
       "3                                2.4    0.9139  \n",
       "4                                4.5    0.8959  "
      ]
     },
     "execution_count": 40,
     "metadata": {},
     "output_type": "execute_result"
    }
   ],
   "source": [
    "pd.DataFrame(final_table)"
   ]
  }
 ],
 "metadata": {
  "kernelspec": {
   "display_name": "Python 3",
   "language": "python",
   "name": "python3"
  },
  "language_info": {
   "codemirror_mode": {
    "name": "ipython",
    "version": 3
   },
   "file_extension": ".py",
   "mimetype": "text/x-python",
   "name": "python",
   "nbconvert_exporter": "python",
   "pygments_lexer": "ipython3",
   "version": "3.7.3"
  }
 },
 "nbformat": 4,
 "nbformat_minor": 5
}
