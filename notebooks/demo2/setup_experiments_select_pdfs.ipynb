{
 "cells": [
  {
   "cell_type": "markdown",
   "id": "617bebb5-0477-40e2-ad6d-c653438cae53",
   "metadata": {},
   "source": [
    "# Setup experiments \n",
    "This notebook helps users to create a dedicated space on the bucket with selectable pdfs to run their instance of the demo."
   ]
  },
  {
   "cell_type": "code",
   "execution_count": 1,
   "id": "fd178177-ef84-45cf-9b33-2180e80d46e6",
   "metadata": {},
   "outputs": [],
   "source": [
    "# Author: ALLIANZ NLP esg data pipeline\n",
    "import os\n",
    "import pathlib\n",
    "from dotenv import load_dotenv\n",
    "from src.data.s3_communication import S3Communication\n",
    "import tempfile\n",
    "import ipywidgets as widgets\n",
    "from IPython.display import display"
   ]
  },
  {
   "cell_type": "code",
   "execution_count": 2,
   "id": "d446243b-52dd-436a-a677-e6872dd9f2da",
   "metadata": {},
   "outputs": [],
   "source": [
    "# Load credentials\n",
    "dotenv_dir = os.environ.get(\n",
    "    \"CREDENTIAL_DOTENV_DIR\", os.environ.get(\"PWD\", \"/opt/app-root/src\")\n",
    ")\n",
    "dotenv_path = pathlib.Path(dotenv_dir) / \"credentials.env\"\n",
    "if os.path.exists(dotenv_path):\n",
    "    load_dotenv(dotenv_path=dotenv_path, override=True)\n",
    "\n",
    "# S3 connecter for the bucket with source data\n",
    "s3c = S3Communication(\n",
    "    s3_endpoint_url=os.getenv(\"S3_ENDPOINT\"),\n",
    "    aws_access_key_id=os.getenv(\"AWS_ACCESS_KEY_ID\"),\n",
    "    aws_secret_access_key=os.getenv(\"AWS_SECRET_ACCESS_KEY\"),\n",
    "    s3_bucket=os.getenv(\"S3_BUCKET\"),\n",
    ")"
   ]
  },
  {
   "cell_type": "markdown",
   "id": "c4bd33a2-264b-434e-850b-0520b9a7bb3e",
   "metadata": {},
   "source": [
    "### Select the source where all the pdfs are stored"
   ]
  },
  {
   "cell_type": "code",
   "execution_count": 3,
   "id": "09faff50-c917-4773-8055-1c0ea317839c",
   "metadata": {},
   "outputs": [],
   "source": [
    "SOURCE_DATA_PREFIX = \"aicoe-osc-demo/pipeline_run\"\n",
    "SOURCE_DATA = f\"{SOURCE_DATA_PREFIX}/samples_145/pdfs\""
   ]
  },
  {
   "cell_type": "code",
   "execution_count": 4,
   "id": "aa9d92e3-43aa-41eb-a2b5-07628de99c42",
   "metadata": {},
   "outputs": [],
   "source": [
    "# get all pdf names\n",
    "all_pdf_names = [i.key[45:] for i in s3c.s3_resource.Bucket(s3c.bucket).objects.filter(Prefix=SOURCE_DATA)][1:]"
   ]
  },
  {
   "cell_type": "markdown",
   "id": "a50e7f1a-aa38-46a0-99aa-6a9c99443f49",
   "metadata": {},
   "source": [
    "Select the pdfs you are interested in. Multiple values can be selected with shift and/or ctrl (or command) pressed and mouse clicks or arrow keys. Once selected, move to the next cell."
   ]
  },
  {
   "cell_type": "code",
   "execution_count": 5,
   "id": "09916e19-69d4-489d-89cb-8a18111ba7e6",
   "metadata": {},
   "outputs": [
    {
     "data": {
      "application/vnd.jupyter.widget-view+json": {
       "model_id": "e9d07883ffd9447cb3dc14d1c16a8b3d",
       "version_major": 2,
       "version_minor": 0
      },
      "text/plain": [
       "interactive(children=(SelectMultiple(description='select_pdfs', index=(1,), layout=Layout(width='100%'), optio…"
      ]
     },
     "metadata": {},
     "output_type": "display_data"
    }
   ],
   "source": [
    "def set_pdf_names(select_pdfs):\n",
    "    global pdf_names\n",
    "    pdf_names = select_pdfs\n",
    "\n",
    "\n",
    "# widget to set query evaluation timestamp\n",
    "display(\n",
    "    widgets.interactive(\n",
    "        set_pdf_names,\n",
    "        select_pdfs=widgets.SelectMultiple(\n",
    "            options=all_pdf_names,\n",
    "            value=all_pdf_names[1:2],\n",
    "            rows=20,\n",
    "            layout=widgets.Layout(width=\"100%\")\n",
    "        ),\n",
    "    )\n",
    ")"
   ]
  },
  {
   "cell_type": "markdown",
   "id": "bf1dbfff-b156-484e-b416-1292672f16ea",
   "metadata": {},
   "source": [
    "Next, You can set the experiment_name and sample_size as you prefer. They will be used as prefix for storing your experiments' files. The same values will have to updated in the config section of settings.yaml. "
   ]
  },
  {
   "cell_type": "code",
   "execution_count": 6,
   "id": "7de7d971-e447-493c-9782-8449217457bb",
   "metadata": {},
   "outputs": [],
   "source": [
    "EXPERIMENT_NAME = \"test_select_pdfs\"\n",
    "SAMPLE_SIZE = f\"samples_selected_{len(pdf_names)}\""
   ]
  },
  {
   "cell_type": "code",
   "execution_count": 7,
   "id": "ea91ac49-8290-4513-9a97-a998e329db34",
   "metadata": {},
   "outputs": [],
   "source": [
    "DESTINATION_DATA_PREFIX = EXPERIMENT_NAME + \"/pipeline_run\"\n",
    "DESTINATION_DATA = f\"{DESTINATION_DATA_PREFIX}/{SAMPLE_SIZE}/pdfs\""
   ]
  },
  {
   "cell_type": "code",
   "execution_count": 8,
   "id": "95cbcce5-5296-48b4-86a8-ed4f456bf959",
   "metadata": {},
   "outputs": [],
   "source": [
    "with tempfile.TemporaryDirectory() as tmpdirname:\n",
    "    for pdf in pdf_names:\n",
    "        s3c.download_file_from_s3(tmpdirname + \"/\" + pdf, SOURCE_DATA, pdf)\n",
    "    s3c.upload_files_in_dir_to_prefix(tmpdirname, DESTINATION_DATA)"
   ]
  },
  {
   "cell_type": "markdown",
   "id": "b6c2e181-189a-48c7-bccd-c450a16cc083",
   "metadata": {},
   "source": [
    "## Training\n",
    "Next, if you want to run training, you'll need an annotations file. You could provide your own or select from existing in the demo."
   ]
  },
  {
   "cell_type": "code",
   "execution_count": 9,
   "id": "ae8dbafb-1613-4f26-85cd-68355231a0ef",
   "metadata": {},
   "outputs": [],
   "source": [
    "SOURCE_ANNOTATIONS = f\"{SOURCE_DATA_PREFIX}/samples_145/annotations\"\n",
    "DESTINATION_ANNOTATIONS = f\"{DESTINATION_DATA_PREFIX}/{SAMPLE_SIZE}/annotations\""
   ]
  },
  {
   "cell_type": "code",
   "execution_count": 10,
   "id": "849fdc31-6208-4dd8-982a-66b342f873e2",
   "metadata": {},
   "outputs": [],
   "source": [
    "all_annotation_names = [i.key[52:] for i in s3c.s3_resource.Bucket(s3c.bucket).objects.filter(Prefix=SOURCE_ANNOTATIONS)][1:]"
   ]
  },
  {
   "cell_type": "code",
   "execution_count": 11,
   "id": "0b1b1e97-fc70-4787-a5d7-fddfd5d9c4a1",
   "metadata": {},
   "outputs": [
    {
     "data": {
      "application/vnd.jupyter.widget-view+json": {
       "model_id": "5cacad02a3c94c9fa95a88e602b78212",
       "version_major": 2,
       "version_minor": 0
      },
      "text/plain": [
       "interactive(children=(SelectMultiple(description='select_annotations', layout=Layout(width='70%'), options=('2…"
      ]
     },
     "metadata": {},
     "output_type": "display_data"
    }
   ],
   "source": [
    "def set_annotation_names(select_annotations):\n",
    "    global annotation_names\n",
    "    annotation_names = select_annotations\n",
    "\n",
    "\n",
    "# widget to set query evaluation timestamp\n",
    "display(\n",
    "    widgets.interactive(\n",
    "        set_annotation_names,\n",
    "        select_annotations=widgets.SelectMultiple(\n",
    "            options=all_annotation_names,\n",
    "            value=all_annotation_names[1:2],\n",
    "            rows=2,\n",
    "            layout=widgets.Layout(width=\"70%\")\n",
    "        ),\n",
    "    )\n",
    ")"
   ]
  },
  {
   "cell_type": "code",
   "execution_count": 12,
   "id": "eaf255af-ea25-40cd-bdf6-46241686ff84",
   "metadata": {},
   "outputs": [],
   "source": [
    "with tempfile.TemporaryDirectory() as tmpdirname:\n",
    "    for annotation in annotation_names:\n",
    "        s3c.download_file_from_s3(tmpdirname + \"/\" + annotation, SOURCE_ANNOTATIONS, annotation)\n",
    "    s3c.upload_files_in_dir_to_prefix(tmpdirname, DESTINATION_ANNOTATIONS)"
   ]
  },
  {
   "cell_type": "markdown",
   "id": "18af4e16-8106-4cc7-b29a-07dfd7550b01",
   "metadata": {},
   "source": [
    "## KPI mapping\n",
    "These mapping is required for defining the questions in the question answering task. It can be downloaded from the red hat physical landing bucket as shown below or it can also be downloaded from here: https://github.com/os-climate/aicoe-osc-demo/tree/master/data/kpi_mapping"
   ]
  },
  {
   "cell_type": "code",
   "execution_count": 13,
   "id": "1faffa4e-102b-4db0-a78d-d3f6e00fa285",
   "metadata": {},
   "outputs": [],
   "source": [
    "with tempfile.TemporaryDirectory() as tmpdirname:\n",
    "    s3c.download_files_in_prefix_to_dir(\"aicoe-osc-demo/kpi_mapping\", tmpdirname)\n",
    "    s3c.upload_files_in_dir_to_prefix(tmpdirname, f\"{EXPERIMENT_NAME}/kpi_mapping\")"
   ]
  }
 ],
 "metadata": {
  "kernelspec": {
   "display_name": "Python 3 (ipykernel)",
   "language": "python",
   "name": "python3"
  },
  "language_info": {
   "codemirror_mode": {
    "name": "ipython",
    "version": 3
   },
   "file_extension": ".py",
   "mimetype": "text/x-python",
   "name": "python",
   "nbconvert_exporter": "python",
   "pygments_lexer": "ipython3",
   "version": "3.8.8"
  }
 },
 "nbformat": 4,
 "nbformat_minor": 5
}
